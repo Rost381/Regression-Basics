{
 "cells": [
  {
   "cell_type": "code",
   "execution_count": 1,
   "metadata": {},
   "outputs": [],
   "source": [
    "import numpy as np\n",
    "import pandas as pd\n",
    "import matplotlib.pyplot as plt"
   ]
  },
  {
   "cell_type": "code",
   "execution_count": 35,
   "metadata": {},
   "outputs": [],
   "source": [
    "class ridge_regression:\n",
    "    \n",
    "    def __init__(self,iteration,alpha,l2_penalty):\n",
    "        \n",
    "        self.iteration=iteration\n",
    "        self.alpha=alpha\n",
    "        self.l2=l2_penalty\n",
    "    def predict(self,x):\n",
    "        return np.dot(x,self.w)\n",
    "    \n",
    "     def fit(self,x,y):\n",
    "        \n",
    "        m = x.shape[0]\n",
    "        self.w = np.random.randn(x.shape[1],1)\n",
    "        self.b = np.zeros((x.shape[1],1))\n",
    "        \n",
    "        for _ in range(self.iteration):\n",
    "            partial = []\n",
    "            t=1\n",
    "            yi = np.dot(x,self.w)\n",
    "            \n",
    "            residuals = y-yi\n",
    "            cost = np.sum((y-yi)**2) + self.l2*np.dot(self.w.T,self.w)\n",
    "            \n",
    "            gradient = (-2*np.dot(x.T,residuals)) + 2 * self.w * self.l2\n",
    "            \n",
    "            self.w = self.w - self.alpha*gradient\n",
    "            \n",
    "            return self\n",
    "            #while(cost>0.001):\n",
    "             #   for i in range(m.shape[1]):\n",
    "              #      partial[i] = np.dot(x.T,residuals)\n",
    "               #     \n",
    "                #    if(j==0):\n",
    "                 #       self.w[i] = self.w[i]- alpha*partial[i]\n",
    "                    \n",
    "                  #  else:\n",
    "                   #     self.w[i]= (1-2*self.alpha*self.l2)*self.w[i] + 2*\n",
    "    \n",
    "        \n",
    "        "
   ]
  }
 ],
 "metadata": {
  "kernelspec": {
   "display_name": "Python 3",
   "language": "python",
   "name": "python3"
  },
  "language_info": {
   "codemirror_mode": {
    "name": "ipython",
    "version": 3
   },
   "file_extension": ".py",
   "mimetype": "text/x-python",
   "name": "python",
   "nbconvert_exporter": "python",
   "pygments_lexer": "ipython3",
   "version": "3.6.8"
  }
 },
 "nbformat": 4,
 "nbformat_minor": 2
}
