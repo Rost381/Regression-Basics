{
 "cells": [
  {
   "cell_type": "code",
   "execution_count": 1,
   "metadata": {},
   "outputs": [],
   "source": [
    "import numpy as np"
   ]
  },
  {
   "cell_type": "code",
   "execution_count": 2,
   "metadata": {},
   "outputs": [],
   "source": [
    "import pandas as pd"
   ]
  },
  {
   "cell_type": "code",
   "execution_count": 3,
   "metadata": {},
   "outputs": [],
   "source": [
    "class linear_regression_sgd:\n",
    "    \n",
    "    def __init__(self,alpha=0.01,iteration=1000):\n",
    "        self.alpha=alpha   #Hyperparameter based on which SGD decreases the weights each iteration\n",
    "        self.iterations=iteration  #number of iterations\n",
    "        self.cost_=[]   #to capture the cost of each iteration\n",
    "    \n",
    "    def fit(self,x,y):\n",
    "        \n",
    "        self.w = np.random.randn(x.shape[1],1)  #initialising weights based on the number of input parameters\n",
    "        \n",
    "        m=x.shape[0]   #number of data points\n",
    "        #self.b=np.ones(x.shape[1])\n",
    "        for _ in range(self.iterations):\n",
    "            \n",
    "            yi=np.dot(x,self.w)  #calculating the predicted values\n",
    "            \n",
    "            residuals = y-yi    #calculating the residuals\n",
    "            \n",
    "            gradient = -2*(np.dot(x.T,residuals)) #differentiating for the derivatives.\n",
    "            #print(gradient)\n",
    "            self.w=self.w-((self.alpha/m)*gradient) #updating weights\n",
    "            #print(self.w)\n",
    "            cost=(np.sum((residuals**2)))/(2*m) #calculating costs\n",
    "            \n",
    "            self.cost_.append(cost)\n",
    "            \n",
    "            return self\n",
    "    \n",
    "    \n",
    "    def predict(self,x):\n",
    "        \n",
    "        return(np.dot(x,self.w))\n",
    "    "
   ]
  },
  {
   "cell_type": "code",
   "execution_count": null,
   "metadata": {},
   "outputs": [],
   "source": []
  }
 ],
 "metadata": {
  "kernelspec": {
   "display_name": "Python 3",
   "language": "python",
   "name": "python3"
  },
  "language_info": {
   "codemirror_mode": {
    "name": "ipython",
    "version": 3
   },
   "file_extension": ".py",
   "mimetype": "text/x-python",
   "name": "python",
   "nbconvert_exporter": "python",
   "pygments_lexer": "ipython3",
   "version": "3.6.8"
  }
 },
 "nbformat": 4,
 "nbformat_minor": 2
}
