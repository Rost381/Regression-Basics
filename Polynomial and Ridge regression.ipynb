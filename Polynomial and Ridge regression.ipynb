{
 "cells": [
  {
   "cell_type": "code",
   "execution_count": 1,
   "metadata": {},
   "outputs": [],
   "source": [
    "import numpy as np\n",
    "import pandas as pd\n",
    "from sklearn.model_selection import train_test_split\n",
    "from sklearn.linear_model import LinearRegression,Ridge\n",
    "from sklearn.preprocessing import PolynomialFeatures\n",
    "from sklearn.metrics import r2_score,mean_squared_error\n",
    "import matplotlib.pyplot as plt\n",
    "import seaborn as sns\n",
    "from sklearn.model_selection import KFold"
   ]
  },
  {
   "cell_type": "code",
   "execution_count": 2,
   "metadata": {},
   "outputs": [],
   "source": [
    "np.random.seed(98823)"
   ]
  },
  {
   "cell_type": "code",
   "execution_count": 3,
   "metadata": {},
   "outputs": [],
   "source": [
    "n=30\n",
    "x=np.array([np.random.random() for i in range(n)])"
   ]
  },
  {
   "cell_type": "code",
   "execution_count": 4,
   "metadata": {},
   "outputs": [],
   "source": [
    "y=[np.sin(4*a)for a in x]"
   ]
  },
  {
   "cell_type": "code",
   "execution_count": 5,
   "metadata": {},
   "outputs": [],
   "source": [
    "noise = np.random.normal(0,1/3,30)"
   ]
  },
  {
   "cell_type": "code",
   "execution_count": 6,
   "metadata": {},
   "outputs": [],
   "source": [
    "y+=noise"
   ]
  },
  {
   "cell_type": "code",
   "execution_count": 7,
   "metadata": {},
   "outputs": [
    {
     "data": {
      "text/plain": [
       "array([ 0.17039204, -0.51915418,  0.21864273,  0.69832233, -0.26646686,\n",
       "       -0.0657674 ,  0.02780901,  0.60952406,  1.02532239,  0.08758599,\n",
       "        0.36073343,  0.67854036,  0.84068032,  1.28017752,  0.93379266,\n",
       "       -0.26985836,  0.50217598,  0.66657166,  0.9345349 ,  0.07873222,\n",
       "        0.53492449,  1.46202159,  1.03960359,  0.54638514,  0.49429317,\n",
       "        0.76880862, -0.56329475,  0.70740841,  0.74117512,  0.57512359])"
      ]
     },
     "execution_count": 7,
     "metadata": {},
     "output_type": "execute_result"
    }
   ],
   "source": [
    "y"
   ]
  },
  {
   "cell_type": "code",
   "execution_count": 8,
   "metadata": {},
   "outputs": [],
   "source": [
    "df=pd.DataFrame({'X':x,'Y':y})"
   ]
  },
  {
   "cell_type": "code",
   "execution_count": 9,
   "metadata": {},
   "outputs": [
    {
     "data": {
      "text/html": [
       "<div>\n",
       "<style scoped>\n",
       "    .dataframe tbody tr th:only-of-type {\n",
       "        vertical-align: middle;\n",
       "    }\n",
       "\n",
       "    .dataframe tbody tr th {\n",
       "        vertical-align: top;\n",
       "    }\n",
       "\n",
       "    .dataframe thead th {\n",
       "        text-align: right;\n",
       "    }\n",
       "</style>\n",
       "<table border=\"1\" class=\"dataframe\">\n",
       "  <thead>\n",
       "    <tr style=\"text-align: right;\">\n",
       "      <th></th>\n",
       "      <th>X</th>\n",
       "      <th>Y</th>\n",
       "    </tr>\n",
       "  </thead>\n",
       "  <tbody>\n",
       "    <tr>\n",
       "      <th>0</th>\n",
       "      <td>0.618565</td>\n",
       "      <td>0.170392</td>\n",
       "    </tr>\n",
       "    <tr>\n",
       "      <th>1</th>\n",
       "      <td>0.882738</td>\n",
       "      <td>-0.519154</td>\n",
       "    </tr>\n",
       "    <tr>\n",
       "      <th>2</th>\n",
       "      <td>0.810349</td>\n",
       "      <td>0.218643</td>\n",
       "    </tr>\n",
       "    <tr>\n",
       "      <th>3</th>\n",
       "      <td>0.708156</td>\n",
       "      <td>0.698322</td>\n",
       "    </tr>\n",
       "    <tr>\n",
       "      <th>4</th>\n",
       "      <td>0.777921</td>\n",
       "      <td>-0.266467</td>\n",
       "    </tr>\n",
       "    <tr>\n",
       "      <th>5</th>\n",
       "      <td>0.652228</td>\n",
       "      <td>-0.065767</td>\n",
       "    </tr>\n",
       "    <tr>\n",
       "      <th>6</th>\n",
       "      <td>0.658577</td>\n",
       "      <td>0.027809</td>\n",
       "    </tr>\n",
       "    <tr>\n",
       "      <th>7</th>\n",
       "      <td>0.041528</td>\n",
       "      <td>0.609524</td>\n",
       "    </tr>\n",
       "    <tr>\n",
       "      <th>8</th>\n",
       "      <td>0.349068</td>\n",
       "      <td>1.025322</td>\n",
       "    </tr>\n",
       "    <tr>\n",
       "      <th>9</th>\n",
       "      <td>0.707169</td>\n",
       "      <td>0.087586</td>\n",
       "    </tr>\n",
       "    <tr>\n",
       "      <th>10</th>\n",
       "      <td>0.145075</td>\n",
       "      <td>0.360733</td>\n",
       "    </tr>\n",
       "    <tr>\n",
       "      <th>11</th>\n",
       "      <td>0.519571</td>\n",
       "      <td>0.678540</td>\n",
       "    </tr>\n",
       "    <tr>\n",
       "      <th>12</th>\n",
       "      <td>0.248981</td>\n",
       "      <td>0.840680</td>\n",
       "    </tr>\n",
       "    <tr>\n",
       "      <th>13</th>\n",
       "      <td>0.285838</td>\n",
       "      <td>1.280178</td>\n",
       "    </tr>\n",
       "    <tr>\n",
       "      <th>14</th>\n",
       "      <td>0.229633</td>\n",
       "      <td>0.933793</td>\n",
       "    </tr>\n",
       "    <tr>\n",
       "      <th>15</th>\n",
       "      <td>0.924702</td>\n",
       "      <td>-0.269858</td>\n",
       "    </tr>\n",
       "    <tr>\n",
       "      <th>16</th>\n",
       "      <td>0.207643</td>\n",
       "      <td>0.502176</td>\n",
       "    </tr>\n",
       "    <tr>\n",
       "      <th>17</th>\n",
       "      <td>0.541848</td>\n",
       "      <td>0.666572</td>\n",
       "    </tr>\n",
       "    <tr>\n",
       "      <th>18</th>\n",
       "      <td>0.500197</td>\n",
       "      <td>0.934535</td>\n",
       "    </tr>\n",
       "    <tr>\n",
       "      <th>19</th>\n",
       "      <td>0.138869</td>\n",
       "      <td>0.078732</td>\n",
       "    </tr>\n",
       "    <tr>\n",
       "      <th>20</th>\n",
       "      <td>0.708403</td>\n",
       "      <td>0.534924</td>\n",
       "    </tr>\n",
       "    <tr>\n",
       "      <th>21</th>\n",
       "      <td>0.356159</td>\n",
       "      <td>1.462022</td>\n",
       "    </tr>\n",
       "    <tr>\n",
       "      <th>22</th>\n",
       "      <td>0.204312</td>\n",
       "      <td>1.039604</td>\n",
       "    </tr>\n",
       "    <tr>\n",
       "      <th>23</th>\n",
       "      <td>0.186957</td>\n",
       "      <td>0.546385</td>\n",
       "    </tr>\n",
       "    <tr>\n",
       "      <th>24</th>\n",
       "      <td>0.026578</td>\n",
       "      <td>0.494293</td>\n",
       "    </tr>\n",
       "    <tr>\n",
       "      <th>25</th>\n",
       "      <td>0.666676</td>\n",
       "      <td>0.768809</td>\n",
       "    </tr>\n",
       "    <tr>\n",
       "      <th>26</th>\n",
       "      <td>0.874907</td>\n",
       "      <td>-0.563295</td>\n",
       "    </tr>\n",
       "    <tr>\n",
       "      <th>27</th>\n",
       "      <td>0.327842</td>\n",
       "      <td>0.707408</td>\n",
       "    </tr>\n",
       "    <tr>\n",
       "      <th>28</th>\n",
       "      <td>0.760332</td>\n",
       "      <td>0.741175</td>\n",
       "    </tr>\n",
       "    <tr>\n",
       "      <th>29</th>\n",
       "      <td>0.615601</td>\n",
       "      <td>0.575124</td>\n",
       "    </tr>\n",
       "  </tbody>\n",
       "</table>\n",
       "</div>"
      ],
      "text/plain": [
       "           X         Y\n",
       "0   0.618565  0.170392\n",
       "1   0.882738 -0.519154\n",
       "2   0.810349  0.218643\n",
       "3   0.708156  0.698322\n",
       "4   0.777921 -0.266467\n",
       "5   0.652228 -0.065767\n",
       "6   0.658577  0.027809\n",
       "7   0.041528  0.609524\n",
       "8   0.349068  1.025322\n",
       "9   0.707169  0.087586\n",
       "10  0.145075  0.360733\n",
       "11  0.519571  0.678540\n",
       "12  0.248981  0.840680\n",
       "13  0.285838  1.280178\n",
       "14  0.229633  0.933793\n",
       "15  0.924702 -0.269858\n",
       "16  0.207643  0.502176\n",
       "17  0.541848  0.666572\n",
       "18  0.500197  0.934535\n",
       "19  0.138869  0.078732\n",
       "20  0.708403  0.534924\n",
       "21  0.356159  1.462022\n",
       "22  0.204312  1.039604\n",
       "23  0.186957  0.546385\n",
       "24  0.026578  0.494293\n",
       "25  0.666676  0.768809\n",
       "26  0.874907 -0.563295\n",
       "27  0.327842  0.707408\n",
       "28  0.760332  0.741175\n",
       "29  0.615601  0.575124"
      ]
     },
     "execution_count": 9,
     "metadata": {},
     "output_type": "execute_result"
    }
   ],
   "source": [
    "df"
   ]
  },
  {
   "cell_type": "code",
   "execution_count": 10,
   "metadata": {},
   "outputs": [
    {
     "data": {
      "image/png": "[encoded data removed]",
      "text/plain": [
       "<Figure size 432x288 with 1 Axes>"
      ]
     },
     "metadata": {
      "needs_background": "light"
     },
     "output_type": "display_data"
    }
   ],
   "source": [
    "def plot(df,y):\n",
    "    plt.scatter((df[df.columns[0]]),y,c='r')\n",
    "    plt.xlabel('X')\n",
    "    plt.ylabel('Y')\n",
    "plot(df,df['Y'])   "
   ]
  },
  {
   "cell_type": "code",
   "execution_count": 11,
   "metadata": {},
   "outputs": [],
   "source": [
    "def poly_features(df,deg):\n",
    "    df_poly = df.copy()\n",
    "    if(len(df_poly.shape)==1):\n",
    "        df_poly=np.array(df_poly).reshape(-1,1)\n",
    "    if(len(df)==1):\n",
    "        df_poly=np.array(df_poly).reshape(1,-1)\n",
    "    poly = PolynomialFeatures(deg)\n",
    "    df_poly=poly.fit_transform(df_poly)\n",
    "    return(df_poly)"
   ]
  },
  {
   "cell_type": "code",
   "execution_count": 12,
   "metadata": {},
   "outputs": [],
   "source": [
    "clf=LinearRegression()"
   ]
  },
  {
   "cell_type": "code",
   "execution_count": 13,
   "metadata": {},
   "outputs": [],
   "source": [
    "check=poly_features(df['X'],16)"
   ]
  },
  {
   "cell_type": "code",
   "execution_count": 14,
   "metadata": {},
   "outputs": [],
   "source": [
    "model=clf.fit(check,df['Y'])"
   ]
  },
  {
   "cell_type": "code",
   "execution_count": 15,
   "metadata": {},
   "outputs": [
    {
     "data": {
      "text/plain": [
       "array([ 0.00000000e+00,  2.12657574e+04, -8.05929449e+05,  1.60628229e+07,\n",
       "       -1.96051291e+08,  1.59730970e+09, -9.15415900e+09,  3.81346750e+10,\n",
       "       -1.17828235e+11,  2.72946570e+11, -4.75281497e+11,  6.18605238e+11,\n",
       "       -5.92417116e+11,  4.04964189e+11, -1.86914385e+11,  5.21813158e+10,\n",
       "       -6.65313491e+09])"
      ]
     },
     "execution_count": 15,
     "metadata": {},
     "output_type": "execute_result"
    }
   ],
   "source": [
    "model.coef_"
   ]
  },
  {
   "cell_type": "code",
   "execution_count": 17,
   "metadata": {},
   "outputs": [],
   "source": [
    "x_test = np.array([np.random.random() for i in range(200)])"
   ]
  },
  {
   "cell_type": "code",
   "execution_count": 18,
   "metadata": {},
   "outputs": [],
   "source": [
    "y_pred=model.predict(poly_features(df['X'],16))"
   ]
  },
  {
   "cell_type": "code",
   "execution_count": 19,
   "metadata": {},
   "outputs": [
    {
     "data": {
      "text/plain": [
       "array([ 0.00000000e+00,  2.12657574e+04, -8.05929449e+05,  1.60628229e+07,\n",
       "       -1.96051291e+08,  1.59730970e+09, -9.15415900e+09,  3.81346750e+10,\n",
       "       -1.17828235e+11,  2.72946570e+11, -4.75281497e+11,  6.18605238e+11,\n",
       "       -5.92417116e+11,  4.04964189e+11, -1.86914385e+11,  5.21813158e+10,\n",
       "       -6.65313491e+09])"
      ]
     },
     "execution_count": 19,
     "metadata": {},
     "output_type": "execute_result"
    }
   ],
   "source": [
    "model.coef_ "
   ]
  },
  {
   "cell_type": "code",
   "execution_count": 32,
   "metadata": {},
   "outputs": [],
   "source": [
    "import operator\n",
    "def plot_predictions(df,model,deg):\n",
    "    plot(df,y)\n",
    "    x_test = np.array([np.random.random() for i in range(200)])\n",
    "    y_pred=model.predict(poly_features(x_test,deg))\n",
    "    sort_zip = sorted(zip(x_test,y_pred))\n",
    "    a,b=zip(*sort_zip)\n",
    "    plt.plot(a,b)\n",
    "    plt.axis([0,1,-2.0,2])\n",
    "    "
   ]
  },
  {
   "cell_type": "code",
   "execution_count": 41,
   "metadata": {},
   "outputs": [
    {
     "data": {
      "image/png": "[encoded data removed]",
      "text/plain": [
       "<Figure size 432x288 with 1 Axes>"
      ]
     },
     "metadata": {
      "needs_background": "light"
     },
     "output_type": "display_data"
    }
   ],
   "source": [
    "clf2=LinearRegression()\n",
    "check2=poly_features(df['X'],4)\n",
    "model2=clf2.fit(check2,df['Y'])\n",
    "plot_predictions(df,model2,4)"
   ]
  },
  {
   "cell_type": "code",
   "execution_count": 42,
   "metadata": {},
   "outputs": [
    {
     "data": {
      "image/png": "[encoded data removed]",
      "text/plain": [
       "<Figure size 432x288 with 1 Axes>"
      ]
     },
     "metadata": {
      "needs_background": "light"
     },
     "output_type": "display_data"
    }
   ],
   "source": [
    "clf3=LinearRegression()\n",
    "check2=poly_features(df['X'],2)\n",
    "model2=clf2.fit(check2,df['Y'])\n",
    "plot_predictions(df,model2,2)"
   ]
  },
  {
   "cell_type": "code",
   "execution_count": 45,
   "metadata": {},
   "outputs": [
    {
     "data": {
      "image/png": "[encoded data removed]",
      "text/plain": [
       "<Figure size 432x288 with 1 Axes>"
      ]
     },
     "metadata": {
      "needs_background": "light"
     },
     "output_type": "display_data"
    }
   ],
   "source": [
    "clf=LinearRegression()\n",
    "check=poly_features(df['X'],2)\n",
    "model=clf2.fit(check2,df['Y'])\n",
    "plot_predictions(df,model2,2)"
   ]
  },
  {
   "cell_type": "code",
   "execution_count": null,
   "metadata": {},
   "outputs": [],
   "source": []
  },
  {
   "cell_type": "code",
   "execution_count": null,
   "metadata": {},
   "outputs": [],
   "source": []
  },
  {
   "cell_type": "code",
   "execution_count": 27,
   "metadata": {},
   "outputs": [],
   "source": [
    "def kfold(df,deg,l2_val,y):\n",
    "    df=poly_features(df['X'],deg)\n",
    "    folds=KFold(len(df))\n",
    "    \n",
    "    l2_penalty_mse=[]\n",
    "    min_mse=None\n",
    "    best_l2=None\n",
    "    best_model=None\n",
    "    for l2 in l2_val:\n",
    "        mse=0\n",
    "        for train,test in folds.split(df):\n",
    "            rid=Ridge(l2)\n",
    "            rid_model=rid.fit(df[train],y[train])\n",
    "            y_pred_rid=rid_model.predict(df[test])\n",
    "            mse+=np.sum((y[test]-y_pred_rid)**2)\n",
    "            \n",
    "        mse/=len(df)\n",
    "        l2_penalty_mse.append(mse)\n",
    "        if(min_mse==None or mse < min_mse):\n",
    "            min_mse=mse\n",
    "            best_l2=l2\n",
    "            best_model=rid_model\n",
    "    return(l2_penalty_mse,best_l2,best_model)"
   ]
  },
  {
   "cell_type": "code",
   "execution_count": 32,
   "metadata": {},
   "outputs": [],
   "source": [
    "val=np.logspace(-4,10,num=10)\n",
    "l2_vals,best_l2,best_model=kfold(df,16,val,df['Y'])"
   ]
  },
  {
   "cell_type": "code",
   "execution_count": 36,
   "metadata": {},
   "outputs": [
    {
     "data": {
      "text/plain": [
       "0.1291549665014884"
      ]
     },
     "execution_count": 36,
     "metadata": {},
     "output_type": "execute_result"
    }
   ],
   "source": [
    "best_l2"
   ]
  },
  {
   "cell_type": "code",
   "execution_count": 34,
   "metadata": {},
   "outputs": [
    {
     "data": {
      "image/png": "[encoded data removed]",
      "text/plain": [
       "<Figure size 432x288 with 1 Axes>"
      ]
     },
     "metadata": {
      "needs_background": "light"
     },
     "output_type": "display_data"
    }
   ],
   "source": [
    "plt.plot(val,l2_vals,'k-')\n",
    "plt.xlabel('$\\ell_2$ penalty')\n",
    "plt.ylabel('cross  val error')\n",
    "plt.xscale('log')\n",
    "plt.yscale('log')"
   ]
  },
  {
   "cell_type": "code",
   "execution_count": 38,
   "metadata": {},
   "outputs": [
    {
     "data": {
      "image/png": "[encoded data removed]",
      "text/plain": [
       "<Figure size 432x288 with 1 Axes>"
      ]
     },
     "metadata": {
      "needs_background": "light"
     },
     "output_type": "display_data"
    }
   ],
   "source": [
    "plot_predictions(df,best_model)"
   ]
  },
  {
   "cell_type": "code",
   "execution_count": null,
   "metadata": {},
   "outputs": [],
   "source": []
  }
 ],
 "metadata": {
  "kernelspec": {
   "display_name": "Python 3",
   "language": "python",
   "name": "python3"
  },
  "language_info": {
   "codemirror_mode": {
    "name": "ipython",
    "version": 3
   },
   "file_extension": ".py",
   "mimetype": "text/x-python",
   "name": "python",
   "nbconvert_exporter": "python",
   "pygments_lexer": "ipython3",
   "version": "3.6.8"
  }
 },
 "nbformat": 4,
 "nbformat_minor": 2
}
